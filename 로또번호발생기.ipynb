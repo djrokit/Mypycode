{
 "cells": [
  {
   "cell_type": "code",
   "execution_count": 2,
   "metadata": {},
   "outputs": [
    {
     "name": "stdout",
     "output_type": "stream",
     "text": [
      "[10, 26, 28, 32, 38, 42]\n",
      "[2, 20, 21, 28, 38, 43]\n",
      "[6, 8, 30, 32, 42, 43]\n"
     ]
    }
   ],
   "source": [
    "import random\n",
    "\n",
    "#my_lotto 함수 생성\n",
    "def my_lotto():\n",
    "    return random.sample(range(1, 45), 6)\n",
    "    \n",
    "#반복문 - 3회 반복\n",
    "for i in range(3):\n",
    "    print(sorted(my_lotto())) #3회 반복 후 오름차순으로 정렬"
   ]
  },
  {
   "cell_type": "code",
   "execution_count": 1,
   "metadata": {},
   "outputs": [
    {
     "name": "stdout",
     "output_type": "stream",
     "text": [
      "이번주 당첨번호는 [6, 29, 30, 31, 35, 41] 입니다\n"
     ]
    }
   ],
   "source": [
    "import random;\n",
    "\n",
    "mylist = []\n",
    "while True:\n",
    "  num = random.randint(1, 45)\n",
    "  if num not in mylist:\n",
    "    mylist.append(num)\n",
    "  if len(mylist) == 6: #리스트 길이가 6이 되면 break\n",
    "    break\n",
    "\n",
    "mylist.sort()\n",
    "print(\"이번주 당첨번호는\", mylist, \"입니다\")"
   ]
  },
  {
   "cell_type": "code",
   "execution_count": null,
   "metadata": {},
   "outputs": [],
   "source": []
  },
  {
   "cell_type": "code",
   "execution_count": null,
   "metadata": {},
   "outputs": [],
   "source": []
  },
  {
   "cell_type": "code",
   "execution_count": null,
   "metadata": {},
   "outputs": [],
   "source": []
  },
  {
   "cell_type": "code",
   "execution_count": null,
   "metadata": {},
   "outputs": [],
   "source": []
  }
 ],
 "metadata": {
  "kernelspec": {
   "display_name": "Python 3",
   "language": "python",
   "name": "python3"
  },
  "language_info": {
   "codemirror_mode": {
    "name": "ipython",
    "version": 3
   },
   "file_extension": ".py",
   "mimetype": "text/x-python",
   "name": "python",
   "nbconvert_exporter": "python",
   "pygments_lexer": "ipython3",
   "version": "3.7.3"
  }
 },
 "nbformat": 4,
 "nbformat_minor": 2
}
