{
 "cells": [
  {
   "cell_type": "code",
   "execution_count": 27,
   "metadata": {},
   "outputs": [
    {
     "name": "stdout",
     "output_type": "stream",
     "text": [
      "<< 연금복권 1등 번호 발생기 >>\n",
      "이렇게 비루하게 살 수는 없다.\n",
      "이번주 당첨번호는 2 조 [4, 2, 4, 5, 4, 1] 입니다.\n"
     ]
    }
   ],
   "source": [
    "print('<< 연금복권 1등 번호 발생기 >>')\n",
    "print('이렇게 비루하게 살 수는 없다.')\n",
    "\n",
    "import random # 랜덤 모듈 import\n",
    "\n",
    "# 조 추출 함수(my_pension_group) 생성\n",
    "def my_pension_group():         \n",
    "    return random.randint(1, 5) # 1에서 5사이의 정수 랜덤 생성\n",
    "\n",
    "# 번호 추출 함수(my_pension_number) 생성\n",
    "def my_pension_number():\n",
    "    X = [ ]             # 빈 리스트 X 생성\n",
    "    for i in range(6): # 6회 반복\n",
    "        a = random.randint(1, 6) # 1에서 6사이의 정수 랜덤 생성\n",
    "        X.append(a) # X 리스트에 변수 a 값 삽입\n",
    "        if len(X) == 6: # 리스트의 길이가 6과 같을 때\n",
    "            return X    # 리스트 X를 리턴\n",
    "\n",
    "# 생성한 함수 2개를 활용하여 번호 출력\n",
    "print('이번주 당첨번호는', my_pension_group(), '조', my_pension_number(), '입니다.')"
   ]
  },
  {
   "cell_type": "code",
   "execution_count": null,
   "metadata": {},
   "outputs": [],
   "source": []
  },
  {
   "cell_type": "code",
   "execution_count": null,
   "metadata": {},
   "outputs": [],
   "source": []
  }
 ],
 "metadata": {
  "kernelspec": {
   "display_name": "Python 3",
   "language": "python",
   "name": "python3"
  },
  "language_info": {
   "codemirror_mode": {
    "name": "ipython",
    "version": 3
   },
   "file_extension": ".py",
   "mimetype": "text/x-python",
   "name": "python",
   "nbconvert_exporter": "python",
   "pygments_lexer": "ipython3",
   "version": "3.7.3"
  }
 },
 "nbformat": 4,
 "nbformat_minor": 4
}
